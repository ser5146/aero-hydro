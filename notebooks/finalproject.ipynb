{
 "metadata": {
  "name": "finalproject.ipynb"
 },
 "nbformat": 3,
 "nbformat_minor": 0,
 "worksheets": [
  {
   "cells": [
    {
     "cell_type": "markdown",
     "metadata": {},
     "source": [
      "##Pterosaur Wing Geometries\n",
      "\n",
      "####A partial review of results from Constraints on the Wing Morphology of Pterosaurs by Palmer & Dyke (2012)"
     ]
    },
    {
     "cell_type": "markdown",
     "metadata": {},
     "source": [
      "The main focus of this effort is to re-create Figure 3 from Palmer & Dyke 2012. Much of the information required to complete this effort was provided directly from the authors as there was insufficient information in the paper to reproduce the results. Additionally, the specific wing geometries used while producing the paper were provided, but there was no clear designation as to which geometry was used in which portion of the study. "
     ]
    },
    {
     "cell_type": "code",
     "collapsed": false,
     "input": [
      "import numpy as np\n",
      "import matplotlib.pyplot as plt\n",
      "from math import *\n",
      "from IPython.display import Image"
     ],
     "language": "python",
     "metadata": {},
     "outputs": [],
     "prompt_number": "*"
    },
    {
     "cell_type": "code",
     "collapsed": false,
     "input": [
      "Figure3=Image(filename='../projects/figure3.png')"
     ],
     "language": "python",
     "metadata": {},
     "outputs": [],
     "prompt_number": "*"
    },
    {
     "cell_type": "code",
     "collapsed": false,
     "input": [
      "Figure3"
     ],
     "language": "python",
     "metadata": {},
     "outputs": [],
     "prompt_number": "*"
    },
    {
     "cell_type": "markdown",
     "metadata": {},
     "source": [
      "---"
     ]
    },
    {
     "cell_type": "markdown",
     "metadata": {},
     "source": [
      "###Airfoil\n",
      "The airfoil used to develop Figure 3 from Palmer & Dyke (2012) is believed to be entitled Faired 7%. This airfoil was provided by the author in a .wpa file which can be read by xflr5. xflr5 is an open source analysis tool for airfoils and 3D wings designed in the program using designated airfoils. Lifting Line Theory, Vortex Lattice Method, and a 3D panel Method are analysis options within xflr5."
     ]
    },
    {
     "cell_type": "code",
     "collapsed": false,
     "input": [
      "class Readairfoil:\n",
      "    def __init__(self,filename):\n",
      "        self.filename = filename\n",
      "        self.readcoordinates()\n",
      "    def readcoordinates(self):\n",
      "        coords=np.loadtxt(self.filename)\n",
      "        self.x=coords[:,0]\n",
      "        self.y=coords[:,1]\n",
      "        self.N=len(self.x)\n",
      "    def plot(self,figNum,color,style,width):\n",
      "        plt.figure(num=figNum)\n",
      "        plt.grid(True)\n",
      "        plt.xlabel('x',fontsize=12)\n",
      "        plt.ylabel('y',fontsize=12)\n",
      "        plt.plot(self.x,self.y,c=color,ls=style,lw=width)\n",
      "        plt.axis('equal')\n",
      "        plt.xlim(0,1)"
     ],
     "language": "python",
     "metadata": {},
     "outputs": [],
     "prompt_number": "*"
    },
    {
     "cell_type": "code",
     "collapsed": false,
     "input": [
      "airfoil = Readairfoil('../project/faired7%.dat')\n",
      "airfoil.plot(figNum=0,color='k',style='-',width=1.5)"
     ],
     "language": "python",
     "metadata": {},
     "outputs": [],
     "prompt_number": "*"
    },
    {
     "cell_type": "markdown",
     "metadata": {},
     "source": [
      "###Wing Geometries\n",
      "The wing geometires used in this attempt to recreate Figure 3 are defined in a spreadsheet provided by the authors. The 800 mm sweep\n"
     ]
    },
    {
     "cell_type": "markdown",
     "metadata": {},
     "source": [
      "---"
     ]
    },
    {
     "cell_type": "code",
     "collapsed": false,
     "input": [
      "from IPython.core.display import HTML\n",
      "def css_styling():\n",
      "    styles = open('../styles/custom.css', 'r').read()\n",
      "    return HTML(styles)\n",
      "css_styling()"
     ],
     "language": "python",
     "metadata": {},
     "outputs": [],
     "prompt_number": "*"
    }
   ],
   "metadata": {}
  }
 ]
}