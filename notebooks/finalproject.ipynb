{
 "metadata": {
  "name": "finalproject.ipynb"
 },
 "nbformat": 3,
 "nbformat_minor": 0,
 "worksheets": [
  {
   "cells": [
    {
     "cell_type": "heading",
     "level": 1,
     "metadata": {},
     "source": [
      "Pterosaur Wing Geometries"
     ]
    },
    {
     "cell_type": "markdown",
     "metadata": {},
     "source": [
      "A partial review of results from Constraints on the Wing Morphology of Pterosaurs by Palmer & Dyke (2012)"
     ]
    },
    {
     "cell_type": "code",
     "collapsed": false,
     "input": [
      "import numpy as np\n",
      "import matplotlib.pyplot as plt\n",
      "from math import *\n",
      "from IPython.display import Image"
     ],
     "language": "python",
     "metadata": {},
     "outputs": [],
     "prompt_number": 2
    },
    {
     "cell_type": "markdown",
     "metadata": {},
     "source": [
      "---"
     ]
    },
    {
     "cell_type": "markdown",
     "metadata": {},
     "source": [
      "#Airfoil\n",
      "The airfoil used to develop Figure 3 from Palmer & Dyke (2012) is believed to be entitled Faired 7%. This airfoil was provided by the author in a .wpa file which can be read by xflr5. xflr5 is an open source analysis tool for airfoils and 3D wings designed in the program using designated airfoils. Lifting Line Theory, Vortex Lattice Method, and a 3D panel Method are analysis options within xflr5."
     ]
    },
    {
     "cell_type": "code",
     "collapsed": false,
     "input": [
      "airfoil="
     ],
     "language": "python",
     "metadata": {},
     "outputs": []
    }
   ],
   "metadata": {}
  }
 ]
}